{
 "cells": [
  {
   "cell_type": "code",
   "execution_count": null,
   "metadata": {},
   "outputs": [
    {
     "name": "stdout",
     "output_type": "stream",
     "text": [
      "Processing complete. Results saved to ../data/raw/wsc/wsc_2016_messy_step2.txt.\n"
     ]
    }
   ],
   "source": [
    "import re\n",
    "\n",
    "# Function to split a line on multiple delimiters\n",
    "def split_line(line, delimiters):\n",
    "    pattern = f\"[{''.join(re.escape(d) for d in delimiters)}]+\"\n",
    "    return re.split(pattern, line.strip())\n",
    "\n",
    "def process_file(input_file, output_file, delimiters):\n",
    "    with open(input_file, 'r') as infile, open(output_file, 'w') as outfile:\n",
    "        for line in infile:\n",
    "            split_data = split_line(line, delimiters)\n",
    "            outfile.write(\",\".join(split_data) + \"\\n\")\n",
    "            #print(\",\".join(split_data) + \"\\n\")\n",
    "\n",
    "input_file = '../data/raw/wsc/wsc_2016_messy.txt'\n",
    "output_file = '../data/raw/wsc/wsc_2016_messy_step2.txt'\n",
    "delimiters = ['|', '}', ' ', ']', ')', '{', ';', '/', '\\\\']\n",
    "\n",
    "# Process the file\n",
    "process_file(input_file, output_file, delimiters)\n",
    "\n",
    "print(f\"Processing complete. Results saved to {output_file}.\")"
   ]
  },
  {
   "cell_type": "code",
   "execution_count": null,
   "metadata": {},
   "outputs": [],
   "source": []
  }
 ],
 "metadata": {
  "kernelspec": {
   "display_name": "venv",
   "language": "python",
   "name": "python3"
  },
  "language_info": {
   "codemirror_mode": {
    "name": "ipython",
    "version": 3
   },
   "file_extension": ".py",
   "mimetype": "text/x-python",
   "name": "python",
   "nbconvert_exporter": "python",
   "pygments_lexer": "ipython3",
   "version": "3.9.6"
  }
 },
 "nbformat": 4,
 "nbformat_minor": 2
}
