{
 "cells": [
  {
   "cell_type": "code",
   "execution_count": null,
   "metadata": {},
   "outputs": [],
   "source": []
  },
  {
   "cell_type": "code",
   "execution_count": null,
   "metadata": {},
   "outputs": [],
   "source": [
    "import pandas as pd\n",
    "\n",
    "def parse_table(file_path, num_columns):\n",
    "    \"\"\"\n",
    "    Parses a text file with each cell on its own line into a pandas DataFrame.\n",
    "\n",
    "    Parameters:\n",
    "        file_path (str): Path to the input text file.\n",
    "        num_columns (int): Number of columns in each row of the table.\n",
    "\n",
    "    Returns:\n",
    "        pd.DataFrame: The reconstructed DataFrame.\n",
    "    \"\"\"\n",
    "    with open(file_path, 'r') as file:\n",
    "        lines = [line.strip() for line in file if line.strip()]\n",
    "\n",
    "    if len(lines) % num_columns != 0:\n",
    "        raise ValueError(\"The total number of lines is not divisible by the specified number of columns.\")\n",
    "\n",
    "    # Group lines into rows based on the number of columns\n",
    "    rows = [lines[i:i + num_columns] for i in range(0, len(lines), num_columns)]\n",
    "\n",
    "    df = pd.DataFrame(rows, columns=[f\"Column_{i+1}\" for i in range(num_columns)])\n",
    "\n",
    "    return df\n",
    "\n",
    "input_file = \"../data/raw/wsc/wsc_2022_cells.txt\"\n",
    "df = parse_table(input_file, 18)\n",
    "df.columns = df.iloc[0]  # Set the first row as column names\n",
    "df = df[1:]  # Drop the first row\n",
    "df.reset_index(drop=True, inplace=True)\n",
    "\n",
    "df.to_csv(\"../data/raw/wsc/wsc_2022.csv\", index=False)"
   ]
  },
  {
   "cell_type": "code",
   "execution_count": null,
   "metadata": {},
   "outputs": [],
   "source": []
  }
 ],
 "metadata": {
  "kernelspec": {
   "display_name": "venv",
   "language": "python",
   "name": "python3"
  },
  "language_info": {
   "codemirror_mode": {
    "name": "ipython",
    "version": 3
   },
   "file_extension": ".py",
   "mimetype": "text/x-python",
   "name": "python",
   "nbconvert_exporter": "python",
   "pygments_lexer": "ipython3",
   "version": "3.9.6"
  }
 },
 "nbformat": 4,
 "nbformat_minor": 2
}
